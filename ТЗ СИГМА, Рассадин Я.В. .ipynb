{
 "cells": [
  {
   "cell_type": "markdown",
   "id": "a6a485c1",
   "metadata": {},
   "source": [
    "# ГК Сигма, тестовое задание, Рассадин Ярослав"
   ]
  },
  {
   "cell_type": "markdown",
   "id": "ef830af1",
   "metadata": {
    "toc": true
   },
   "source": [
    "<h1>Оглавление:<span class=\"tocSkip\"></span></h1>\n",
    "<div class=\"toc\"><ul class=\"toc-item\"><li><span><a href=\"#Ответы-на-вопросы\" data-toc-modified-id=\"Ответы-на-вопросы-1\"><span class=\"toc-item-num\">1&nbsp;&nbsp;</span>Ответы на вопросы</a></span><ul class=\"toc-item\"><li><span><a href=\"#Найти-ошибки-в-запросе\" data-toc-modified-id=\"Найти-ошибки-в-запросе-1.1\"><span class=\"toc-item-num\">1.1&nbsp;&nbsp;</span>Найти ошибки в запросе</a></span></li><li><span><a href=\"#Написать-оператор\" data-toc-modified-id=\"Написать-оператор-1.2\"><span class=\"toc-item-num\">1.2&nbsp;&nbsp;</span>Написать оператор</a></span></li><li><span><a href=\"#Написать-запросы\" data-toc-modified-id=\"Написать-запросы-1.3\"><span class=\"toc-item-num\">1.3&nbsp;&nbsp;</span>Написать запросы</a></span></li></ul></li><li><span><a href=\"#Написание-запросов\" data-toc-modified-id=\"Написание-запросов-2\"><span class=\"toc-item-num\">2&nbsp;&nbsp;</span>Написание запросов</a></span><ul class=\"toc-item\"><li><span><a href=\"#Таблица-rooms\" data-toc-modified-id=\"Таблица-rooms-2.1\"><span class=\"toc-item-num\">2.1&nbsp;&nbsp;</span>Таблица rooms</a></span><ul class=\"toc-item\"><li><span><a href=\"#Вывести-список-всех-этажей\" data-toc-modified-id=\"Вывести-список-всех-этажей-2.1.1\"><span class=\"toc-item-num\">2.1.1&nbsp;&nbsp;</span>Вывести список всех этажей</a></span></li><li><span><a href=\"#Вывести-список-этажей-и-кол-во-комнат-в-них\" data-toc-modified-id=\"Вывести-список-этажей-и-кол-во-комнат-в-них-2.1.2\"><span class=\"toc-item-num\">2.1.2&nbsp;&nbsp;</span>Вывести список этажей и кол-во комнат в них</a></span></li><li><span><a href=\"#Вывести-список-всех-этажей,-где-выключен-свет\" data-toc-modified-id=\"Вывести-список-всех-этажей,-где-выключен-свет-2.1.3\"><span class=\"toc-item-num\">2.1.3&nbsp;&nbsp;</span>Вывести список всех этажей, где выключен свет</a></span></li><li><span><a href=\"#Вывести-макс-номер-комнаты-(по-последним-двум-цифрам)-для-всего-здания\" data-toc-modified-id=\"Вывести-макс-номер-комнаты-(по-последним-двум-цифрам)-для-всего-здания-2.1.4\"><span class=\"toc-item-num\">2.1.4&nbsp;&nbsp;</span>Вывести макс номер комнаты (по последним двум цифрам) для всего здания</a></span></li><li><span><a href=\"#Написать-update-который,-для-каждой-комнаты-«нажмет-на-выключатель»\" data-toc-modified-id=\"Написать-update-который,-для-каждой-комнаты-«нажмет-на-выключатель»-2.1.5\"><span class=\"toc-item-num\">2.1.5&nbsp;&nbsp;</span>Написать update который, для каждой комнаты «нажмет на выключатель»</a></span></li><li><span><a href=\"#Написать-merge,-который-для-каждой-нечетной-комнаты-«нажмет-на-выключатель»\" data-toc-modified-id=\"Написать-merge,-который-для-каждой-нечетной-комнаты-«нажмет-на-выключатель»-2.1.6\"><span class=\"toc-item-num\">2.1.6&nbsp;&nbsp;</span>Написать merge, который для каждой нечетной комнаты «нажмет на выключатель»</a></span></li><li><span><a href=\"#Вывести-список-этажей-и-для-каждого-этажа-признак-наличия-света-в-комнате-с-самым-большим-номером\" data-toc-modified-id=\"Вывести-список-этажей-и-для-каждого-этажа-признак-наличия-света-в-комнате-с-самым-большим-номером-2.1.7\"><span class=\"toc-item-num\">2.1.7&nbsp;&nbsp;</span>Вывести список этажей и для каждого этажа признак наличия света в комнате с самым большим номером</a></span></li><li><span><a href=\"#Вывести-список-этажей-и-для-каждого-этажа-кол-во-комнат-с-включенным-светом-на-этажах-ниже-текущего-(включая-текущий)\" data-toc-modified-id=\"Вывести-список-этажей-и-для-каждого-этажа-кол-во-комнат-с-включенным-светом-на-этажах-ниже-текущего-(включая-текущий)-2.1.8\"><span class=\"toc-item-num\">2.1.8&nbsp;&nbsp;</span>Вывести список этажей и для каждого этажа кол-во комнат с включенным светом на этажах ниже текущего (включая текущий)</a></span></li></ul></li><li><span><a href=\"#Таблица-начисления-по-абоненту-во-временных-зонах\" data-toc-modified-id=\"Таблица-начисления-по-абоненту-во-временных-зонах-2.2\"><span class=\"toc-item-num\">2.2&nbsp;&nbsp;</span>Таблица начисления по абоненту во временных зонах</a></span><ul class=\"toc-item\"><li><span><a href=\"#Создание-таблиц-абонентов-и-временных-зон\" data-toc-modified-id=\"Создание-таблиц-абонентов-и-временных-зон-2.2.1\"><span class=\"toc-item-num\">2.2.1&nbsp;&nbsp;</span>Создание таблиц абонентов и временных зон</a></span></li><li><span><a href=\"#Создание-таблицы-начислений\" data-toc-modified-id=\"Создание-таблицы-начислений-2.2.2\"><span class=\"toc-item-num\">2.2.2&nbsp;&nbsp;</span>Создание таблицы начислений</a></span></li><li><span><a href=\"#Запрос\" data-toc-modified-id=\"Запрос-2.2.3\"><span class=\"toc-item-num\">2.2.3&nbsp;&nbsp;</span>Запрос</a></span></li></ul></li></ul></li></ul></div>"
   ]
  },
  {
   "cell_type": "markdown",
   "id": "acd05fce",
   "metadata": {},
   "source": [
    "## Ответы на вопросы"
   ]
  },
  {
   "cell_type": "markdown",
   "id": "c18e8204",
   "metadata": {},
   "source": [
    "### Найти ошибки в запросе"
   ]
  },
  {
   "cell_type": "markdown",
   "id": "ed2a1bbf",
   "metadata": {},
   "source": [
    "В данном запросе ошибка заключается в том, что выводится максимальное значение id одновременно с выводом всех строк,то есть неверно использована агрегатная функция MAX(). Значение \"24531fs23\" не соответствует стандартному формату для значения столбца \"id\", вместо int используется varchar. Тем не менее такая запись id возможна при условии тщательного определения длины и гарантирования уникальности значений."
   ]
  },
  {
   "cell_type": "markdown",
   "id": "c0bf5116",
   "metadata": {},
   "source": [
    "### Написать оператор"
   ]
  },
  {
   "cell_type": "markdown",
   "id": "47e6fa94",
   "metadata": {},
   "source": [
    "Оператор, позволяющий заполнить все строки таблицы person, в которых не\n",
    "указано значение flg значением по умолчанию, которое равно 0."
   ]
  },
  {
   "cell_type": "markdown",
   "id": "5e095de0",
   "metadata": {},
   "source": [
    "```sql\n",
    "UPDATE Person\n",
    "SET flg = 0\n",
    "WHERE flg IS NULL;\n",
    "```"
   ]
  },
  {
   "cell_type": "markdown",
   "id": "8d4dbc50",
   "metadata": {},
   "source": [
    "### Написать запросы"
   ]
  },
  {
   "cell_type": "markdown",
   "id": "8940fef7",
   "metadata": {},
   "source": [
    "a) Найти таких клиентов, для которых в период с 01.12.2021 не было ни одного сообщения.\n",
    "<u>Вывести</u> для них имя, почту, дату создания."
   ]
  },
  {
   "cell_type": "markdown",
   "id": "1186a593",
   "metadata": {},
   "source": [
    "```sql\n",
    "SELECT name, mail, Start_dt\n",
    "FROM Person\n",
    "WHERE id NOT IN (\n",
    "    SELECT person_id\n",
    "    FROM Message\n",
    "    WHERE Message_dt >= '2021-12-01'\n",
    ")\n",
    "```"
   ]
  },
  {
   "cell_type": "markdown",
   "id": "9e3bc66b",
   "metadata": {},
   "source": [
    "b) Посчитать количество клиентов, у которых в имени есть буквы «I», «O» независимо от\n",
    "регистра.\n",
    "<u>Вывести</u>: количество."
   ]
  },
  {
   "cell_type": "markdown",
   "id": "e9dee3a0",
   "metadata": {},
   "source": [
    "```sql\n",
    "SELECT COUNT(*) AS count_clients\n",
    "FROM Person\n",
    "WHERE LOWER(name) LIKE '%i%' AND LOWER(name) LIKE '%o%'\n",
    "```"
   ]
  },
  {
   "cell_type": "markdown",
   "id": "a515ad93",
   "metadata": {},
   "source": [
    "c) Посчитать количество сообщений по каждой категории.\n",
    "<u>Вывести</u> категорию, количество сообщений и дату первого сообщения в категории."
   ]
  },
  {
   "cell_type": "markdown",
   "id": "0cdb91f8",
   "metadata": {},
   "source": [
    "```sql\n",
    "SELECT Category, COUNT(*) AS count_messages, MIN(Message_dt) AS first_message_date\n",
    "FROM Messages\n",
    "GROUP BY Category\n",
    "```"
   ]
  },
  {
   "cell_type": "markdown",
   "id": "aa58396d",
   "metadata": {},
   "source": [
    "d) Посчитать количество сообщений по каждой категории.\n",
    "<u>Вывести</u> категорию, количество сообщений и дату первого сообщения в категории и имя\n",
    "клиента, для которого это сообщение было предназначено."
   ]
  },
  {
   "cell_type": "markdown",
   "id": "01858e9e",
   "metadata": {},
   "source": [
    "```sql\n",
    "SELECT M.Category, COUNT(*) AS count_messages, MIN(M.Message_dt) AS first_message_date, P.Name AS client_name\n",
    "FROM Messages M\n",
    "JOIN Clients C ON M.Client_id = C.Id\n",
    "JOIN Persons P ON C.Person_id = P.Id\n",
    "GROUP BY M.Category, C.Name\n",
    "```"
   ]
  },
  {
   "cell_type": "markdown",
   "id": "4ab75a7a",
   "metadata": {},
   "source": [
    "## Написание запросов"
   ]
  },
  {
   "cell_type": "markdown",
   "id": "5bab1024",
   "metadata": {},
   "source": [
    "### Таблица rooms"
   ]
  },
  {
   "cell_type": "markdown",
   "id": "0be34ee7",
   "metadata": {},
   "source": [
    "```sql\n",
    "rooms\n",
    "(\n",
    "room_id number\n",
    "floor number\n",
    "light_is_on varchar2(1)\n",
    ");\n",
    "```"
   ]
  },
  {
   "cell_type": "markdown",
   "id": "a69a983a",
   "metadata": {},
   "source": [
    "#### Вывести список всех этажей"
   ]
  },
  {
   "cell_type": "markdown",
   "id": "f0f91894",
   "metadata": {},
   "source": [
    "```sql\n",
    "SELECT DISTINCT floor \n",
    "FROM rooms;\n",
    "```"
   ]
  },
  {
   "cell_type": "markdown",
   "id": "adc73b92",
   "metadata": {},
   "source": [
    "#### Вывести список этажей и кол-во комнат в них"
   ]
  },
  {
   "cell_type": "markdown",
   "id": "f91a0e41",
   "metadata": {},
   "source": [
    "```sql\n",
    "SELECT floor, COUNT(*) AS number_of_rooms\n",
    "FROM rooms\n",
    "GROUP BY floor;\n",
    "```"
   ]
  },
  {
   "cell_type": "markdown",
   "id": "4a674028",
   "metadata": {},
   "source": [
    "#### Вывести список всех этажей, где выключен свет"
   ]
  },
  {
   "cell_type": "markdown",
   "id": "3aa32a40",
   "metadata": {},
   "source": [
    "```sql\n",
    "SELECT floor \n",
    "FROM (\n",
    "    SELECT floor, COUNT(*) AS total_rooms, SUM(CAST(light_is_on AS INT)) AS rooms_with_light\n",
    "    FROM rooms\n",
    "    GROUP BY floor\n",
    ") AS subquery\n",
    "WHERE rooms_with_light = 0;\n",
    "```"
   ]
  },
  {
   "cell_type": "markdown",
   "id": "dfd2201e",
   "metadata": {},
   "source": [
    "#### Вывести макс номер комнаты (по последним двум цифрам) для всего здания"
   ]
  },
  {
   "cell_type": "markdown",
   "id": "67d68380",
   "metadata": {},
   "source": [
    "```sql\n",
    "SELECT MAX(room_id % 100) AS max_room_number\n",
    "FROM rooms;\n",
    "```"
   ]
  },
  {
   "cell_type": "markdown",
   "id": "b78673e2",
   "metadata": {},
   "source": [
    "#### Написать update который, для каждой комнаты «нажмет на выключатель»"
   ]
  },
  {
   "cell_type": "markdown",
   "id": "5b9036c6",
   "metadata": {},
   "source": [
    "Если в формулировке задачи под выключателем понимается \"выключить свет\", то запрос будет выглядеть следующим образом: "
   ]
  },
  {
   "cell_type": "markdown",
   "id": "9c39a106",
   "metadata": {},
   "source": [
    "```sql\n",
    "UPDATE rooms\n",
    "SET light_is_on = '0';\n",
    "```"
   ]
  },
  {
   "cell_type": "markdown",
   "id": "178be7ed",
   "metadata": {},
   "source": [
    "Если понимается \"нажать на выключатель, сменив положение с 0 на 1 и наоборот\", запрос следующий:"
   ]
  },
  {
   "cell_type": "markdown",
   "id": "ce5d6f63",
   "metadata": {},
   "source": [
    "```sql\n",
    "UPDATE rooms\n",
    "SET light_is_on = CASE WHEN light_is_on = 0 THEN 1 ELSE 0 END;\n",
    "```"
   ]
  },
  {
   "cell_type": "markdown",
   "id": "92b51fc1",
   "metadata": {},
   "source": [
    "#### Написать merge, который для каждой нечетной комнаты «нажмет на выключатель»"
   ]
  },
  {
   "cell_type": "markdown",
   "id": "dcb00f20",
   "metadata": {},
   "source": [
    "```sql\n",
    "MERGE INTO rooms\n",
    "USING (\n",
    "    SELECT room_id\n",
    "    FROM rooms\n",
    "    WHERE room_id % 2 <> 0\n",
    ") t\n",
    "ON (rooms.room_id = t.room_id)\n",
    "WHEN MATCHED THEN UPDATE\n",
    "SET light_is_on = CASE WHEN light_is_on = '1' THEN '0' ELSE '1' END;\n",
    "```"
   ]
  },
  {
   "cell_type": "markdown",
   "id": "9be33968",
   "metadata": {},
   "source": [
    "#### Вывести список этажей и для каждого этажа признак наличия света в комнате с самым большим номером"
   ]
  },
  {
   "cell_type": "markdown",
   "id": "64a83136",
   "metadata": {},
   "source": [
    "```sql\n",
    "SELECT sub.floor, sub.light_is_on AS light_status\n",
    "FROM (\n",
    "    SELECT floor, light_is_on, \n",
    "           ROW_NUMBER() OVER (PARTITION BY floor ORDER BY room_id DESC) AS rn\n",
    "    FROM rooms\n",
    ") sub\n",
    "WHERE sub.rn = 1;\n",
    "```"
   ]
  },
  {
   "cell_type": "markdown",
   "id": "69d557e7",
   "metadata": {},
   "source": [
    "#### Вывести список этажей и для каждого этажа кол-во комнат с включенным светом на этажах ниже текущего (включая текущий)"
   ]
  },
  {
   "cell_type": "markdown",
   "id": "e91eed32",
   "metadata": {},
   "source": [
    "```sql\n",
    "\n",
    "```"
   ]
  },
  {
   "cell_type": "markdown",
   "id": "8d688610",
   "metadata": {},
   "source": [
    "Над текущим пунктом работал около полутора часов, но так и не пришел к итоговому ответу, как правильно написать запрос. Я признаю существование слабых сторон и стремлюсь к их минимизации, потому прошу при направлении обратной связи подсказать, какой запрос должен дать верный результат. "
   ]
  },
  {
   "cell_type": "markdown",
   "id": "9c00320a",
   "metadata": {},
   "source": [
    "### Таблица начисления по абоненту во временных зонах"
   ]
  },
  {
   "cell_type": "markdown",
   "id": "658b02bc",
   "metadata": {},
   "source": [
    "#### Создание таблиц абонентов и временных зон"
   ]
  },
  {
   "cell_type": "markdown",
   "id": "ac1c7f6d",
   "metadata": {},
   "source": [
    "```sql\n",
    "CREATE TABLE abonents (\n",
    "    abonent_id SERIAL PRIMARY KEY,\n",
    "    abonent_name VARCHAR(100) NOT NULL\n",
    ");\n",
    "\n",
    "CREATE TABLE timezones (\n",
    "    timezone_id SERIAL PRIMARY KEY,\n",
    "    timezone_name VARCHAR(100) NOT NULL\n",
    ");\n",
    "\n",
    "INSERT INTO abonents (abonent_name)\n",
    "VALUES ('Абонент_1'), ('Абонент_2');\n",
    "\n",
    "INSERT INTO timezones (timezone_name)\n",
    "VALUES ('День'), ('Ночь'), ('круглосуточно');\n",
    "```"
   ]
  },
  {
   "cell_type": "markdown",
   "id": "e85ba848",
   "metadata": {},
   "source": [
    "#### Создание таблицы начислений"
   ]
  },
  {
   "cell_type": "markdown",
   "id": "4e3caf50",
   "metadata": {},
   "source": [
    "```sql\n",
    "CREATE TABLE charges (\n",
    "    charge_id SERIAL PRIMARY KEY,\n",
    "    abonent_id INTEGER REFERENCES abonents (abonent_id),\n",
    "    timezone_id INTEGER REFERENCES timezones (timezone_id),\n",
    "    charge_amount INTEGER NOT NULL\n",
    ");\n",
    "\n",
    "INSERT INTO charges (abonent_id, timezone_id, charge_amount)\n",
    "VALUES (1, 1, 2), (1, 2, 1), (2, 3, 3);\n",
    "```"
   ]
  },
  {
   "cell_type": "markdown",
   "id": "e95ceda1",
   "metadata": {},
   "source": [
    "#### Запрос"
   ]
  },
  {
   "cell_type": "markdown",
   "id": "299a224c",
   "metadata": {},
   "source": [
    "```sql\n",
    "SELECT \n",
    "    abonents.abonent_name,\n",
    "    timezones.timezone_name,\n",
    "    COALESCE(charges.charge_amount, 0) AS charge_amount\n",
    "FROM \n",
    "    abonents\n",
    "CROSS JOIN \n",
    "    timezones\n",
    "LEFT JOIN \n",
    "    charges\n",
    "ON \n",
    "    abonents.abonent_id = charges.abonent_id AND timezones.timezone_id = charges.timezone_id;\n",
    "```"
   ]
  }
 ],
 "metadata": {
  "kernelspec": {
   "display_name": "Python 3 (ipykernel)",
   "language": "python",
   "name": "python3"
  },
  "language_info": {
   "codemirror_mode": {
    "name": "ipython",
    "version": 3
   },
   "file_extension": ".py",
   "mimetype": "text/x-python",
   "name": "python",
   "nbconvert_exporter": "python",
   "pygments_lexer": "ipython3",
   "version": "3.9.13"
  },
  "toc": {
   "base_numbering": 1,
   "nav_menu": {},
   "number_sections": true,
   "sideBar": true,
   "skip_h1_title": true,
   "title_cell": "Оглавление:",
   "title_sidebar": "Contents",
   "toc_cell": true,
   "toc_position": {
    "height": "calc(100% - 180px)",
    "left": "10px",
    "top": "150px",
    "width": "377px"
   },
   "toc_section_display": true,
   "toc_window_display": true
  }
 },
 "nbformat": 4,
 "nbformat_minor": 5
}
